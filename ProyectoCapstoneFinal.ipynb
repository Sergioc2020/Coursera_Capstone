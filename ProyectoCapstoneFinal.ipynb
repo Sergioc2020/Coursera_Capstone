{
 "cells": [
  {
   "cell_type": "markdown",
   "metadata": {},
   "source": [
    "<center><img src=\"data:image/jpeg;base64,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\" width=\"240\" height=\"240\"></center>"
   ]
  },
  {
   "cell_type": "markdown",
   "metadata": {},
   "source": [
    "# <div style=\"text-align:center\"> Proyecto Capstone - La Batalla de los Vecindarios </div>"
   ]
  },
  {
   "cell_type": "code",
   "execution_count": null,
   "metadata": {},
   "outputs": [],
   "source": []
  },
  {
   "cell_type": "markdown",
   "metadata": {},
   "source": [
    "# Introducción<a id=\"1\"></a>"
   ]
  },
  {
   "cell_type": "markdown",
   "metadata": {},
   "source": [
    "En este proyecto vamos a abordar cada uno de los barrios de la ciudad de Medellín - Colombia, con el fin de determinar en cual barrio es mejor establecer un negocio de Barber Shop.\n",
    "\n",
    "Para llevar esto a cabo vamos a hacer uso de diferentes herramientas, una de ellas es la base de datos de barrios Veredas de la ciudad de Medellín, base de datos proporcionada por la alcaldía de Medellín, y la otra herramienta es la API de Foursqueare, la cual vamos a utilziar para analizar a detalle cada uno de los barrios."
   ]
  },
  {
   "cell_type": "markdown",
   "metadata": {},
   "source": [
    "# Problema Comercial<a id=\"2\"></a>"
   ]
  },
  {
   "cell_type": "markdown",
   "metadata": {},
   "source": [
    "Este problema surge de la motivación de un familiar X por entablar un negocio de Barber Shop en la ciudad de Medellín, sin embargo no sabe donde es mejor, debido a la gran demanda que estan presentando estos sitios actualmente.\n",
    "\n",
    "Con base en lo anterior, utilizaremos Ciencia de Datos para generar Clusters y así saber en cual barrio de Medellín es mas factible entablar una barberia y donde no."
   ]
  },
  {
   "cell_type": "markdown",
   "metadata": {},
   "source": [
    "# Datos<a id=\"3\"></a>"
   ]
  },
  {
   "cell_type": "markdown",
   "metadata": {},
   "source": [
    "Para este proyecto nos basamos en la fuente de datos **Bario Vereda** la cual la encontramos en la página web **GeoMedellín**, sitio web administrado por la Alcaldía de Medellín. En esta fuente de datos, encontraremos cada uno de los barrios de la ciudad de Medellín.\n",
    "\n",
    "Como segundo recurso utilizamos la librería **geopy** para encontrar los valores de latitud y longitud para cada uno de los barrios.\n",
    "\n",
    "Una vez tengamos el DataFrame de los barrios de Medellín con sus respectivas coordenadas, procederemos a usar la API de Foursquare para analizar cada uno de los barrios."
   ]
  },
  {
   "cell_type": "code",
   "execution_count": 1,
   "metadata": {},
   "outputs": [
    {
     "name": "stderr",
     "output_type": "stream",
     "text": [
      "usage: conda-script.py [-h] [-V] command ...\n",
      "conda-script.py: error: unrecognized arguments: # retirar el comentario de esta línea si no ha completado el laboratorio de la API de FourSquare\n"
     ]
    },
    {
     "name": "stdout",
     "output_type": "stream",
     "text": [
      "Libraries imported.\n"
     ]
    }
   ],
   "source": [
    "import numpy as np # librería para manejar datos vectorizados\n",
    "\n",
    "import pandas as pd # librería para análisis de datos\n",
    "pd.set_option('display.max_columns', None)\n",
    "pd.set_option('display.max_rows', None)\n",
    "\n",
    "import json # librería para manejar archivos JSON \n",
    "\n",
    "!conda install -c conda-forge geopy --yes # retirar el comentario de esta línea si no ha completado el laboratorio de la API de FourSquare \n",
    "from geopy.geocoders import Nominatim # convertir una dirección en valores de latitud y longitud\n",
    "\n",
    "import requests # librería para manejar solicitudes\n",
    "from pandas.io.json import json_normalize # librería para convertir un archivo json en un dataframe pandas\n",
    "\n",
    "# Matplotlib y módulos asociados para graficar\n",
    "import matplotlib.cm as cm\n",
    "import matplotlib.colors as colors\n",
    "\n",
    "# importar k-means desde la fase de agrupación\n",
    "from sklearn.cluster import KMeans\n",
    "\n",
    "#!conda install -c conda-forge folium=0.5.0 --yes # retirar el comentario de esta línea si no ha completado el laboratorio de la API de FourSquare\n",
    "import folium # librería para graficar mapas \n",
    "\n",
    "print('Libraries imported.')"
   ]
  },
  {
   "cell_type": "code",
   "execution_count": 67,
   "metadata": {},
   "outputs": [
    {
     "data": {
      "text/html": [
       "<div>\n",
       "<style scoped>\n",
       "    .dataframe tbody tr th:only-of-type {\n",
       "        vertical-align: middle;\n",
       "    }\n",
       "\n",
       "    .dataframe tbody tr th {\n",
       "        vertical-align: top;\n",
       "    }\n",
       "\n",
       "    .dataframe thead th {\n",
       "        text-align: right;\n",
       "    }\n",
       "</style>\n",
       "<table border=\"1\" class=\"dataframe\">\n",
       "  <thead>\n",
       "    <tr style=\"text-align: right;\">\n",
       "      <th></th>\n",
       "      <th>OBJECTID</th>\n",
       "      <th>CODIGO</th>\n",
       "      <th>NOMBRE</th>\n",
       "      <th>SUBTIPO_BARRIOVEREDA</th>\n",
       "      <th>NOMBRE_COMUNA_CORREGIMIENTO</th>\n",
       "      <th>SHAPEAREA</th>\n",
       "      <th>SHAPELEN</th>\n",
       "    </tr>\n",
       "  </thead>\n",
       "  <tbody>\n",
       "    <tr>\n",
       "      <th>0</th>\n",
       "      <td>1112</td>\n",
       "      <td>0510</td>\n",
       "      <td>Tricentenario</td>\n",
       "      <td>1</td>\n",
       "      <td>Castilla</td>\n",
       "      <td>420637.970349</td>\n",
       "      <td>2897.304229</td>\n",
       "    </tr>\n",
       "    <tr>\n",
       "      <th>1</th>\n",
       "      <td>1113</td>\n",
       "      <td>0208</td>\n",
       "      <td>Villa Niza</td>\n",
       "      <td>1</td>\n",
       "      <td>Santa Cruz</td>\n",
       "      <td>143215.327504</td>\n",
       "      <td>1697.303318</td>\n",
       "    </tr>\n",
       "    <tr>\n",
       "      <th>2</th>\n",
       "      <td>1114</td>\n",
       "      <td>1108</td>\n",
       "      <td>Laureles</td>\n",
       "      <td>1</td>\n",
       "      <td>Laureles Estadio</td>\n",
       "      <td>707014.821267</td>\n",
       "      <td>3847.112683</td>\n",
       "    </tr>\n",
       "    <tr>\n",
       "      <th>3</th>\n",
       "      <td>1115</td>\n",
       "      <td>1303</td>\n",
       "      <td>Santa Rosa de Lima</td>\n",
       "      <td>1</td>\n",
       "      <td>San Javier</td>\n",
       "      <td>139970.996369</td>\n",
       "      <td>2158.954261</td>\n",
       "    </tr>\n",
       "    <tr>\n",
       "      <th>4</th>\n",
       "      <td>1116</td>\n",
       "      <td>1206</td>\n",
       "      <td>Santa Lucía</td>\n",
       "      <td>1</td>\n",
       "      <td>La América</td>\n",
       "      <td>275913.740234</td>\n",
       "      <td>3048.703385</td>\n",
       "    </tr>\n",
       "  </tbody>\n",
       "</table>\n",
       "</div>"
      ],
      "text/plain": [
       "   OBJECTID CODIGO              NOMBRE  SUBTIPO_BARRIOVEREDA  \\\n",
       "0      1112   0510       Tricentenario                     1   \n",
       "1      1113   0208          Villa Niza                     1   \n",
       "2      1114   1108            Laureles                     1   \n",
       "3      1115   1303  Santa Rosa de Lima                     1   \n",
       "4      1116   1206         Santa Lucía                     1   \n",
       "\n",
       "  NOMBRE_COMUNA_CORREGIMIENTO      SHAPEAREA     SHAPELEN  \n",
       "0                    Castilla  420637.970349  2897.304229  \n",
       "1                  Santa Cruz  143215.327504  1697.303318  \n",
       "2            Laureles Estadio  707014.821267  3847.112683  \n",
       "3                  San Javier  139970.996369  2158.954261  \n",
       "4                  La América  275913.740234  3048.703385  "
      ]
     },
     "execution_count": 67,
     "metadata": {},
     "output_type": "execute_result"
    }
   ],
   "source": [
    "#Cargar set de datos\n",
    "df = pd.read_csv(r'C:\\Users\\sergio.carmona\\Documents\\Certificados Curso DataScience\\Videos Curso DataScience\\Curso 9. Capstone\\Capstone_Final\\Barrio_Vereda.csv')\n",
    "df.head()"
   ]
  },
  {
   "cell_type": "code",
   "execution_count": 68,
   "metadata": {},
   "outputs": [],
   "source": [
    "#Borrar columnas innecesarias\n",
    "df = df.drop('OBJECTID',1).drop('SUBTIPO_BARRIOVEREDA',1).drop('NOMBRE_COMUNA_CORREGIMIENTO',1).drop('SHAPEAREA',1).drop('SHAPELEN',1)"
   ]
  },
  {
   "cell_type": "code",
   "execution_count": 69,
   "metadata": {},
   "outputs": [
    {
     "data": {
      "text/html": [
       "<div>\n",
       "<style scoped>\n",
       "    .dataframe tbody tr th:only-of-type {\n",
       "        vertical-align: middle;\n",
       "    }\n",
       "\n",
       "    .dataframe tbody tr th {\n",
       "        vertical-align: top;\n",
       "    }\n",
       "\n",
       "    .dataframe thead th {\n",
       "        text-align: right;\n",
       "    }\n",
       "</style>\n",
       "<table border=\"1\" class=\"dataframe\">\n",
       "  <thead>\n",
       "    <tr style=\"text-align: right;\">\n",
       "      <th></th>\n",
       "      <th>CODIGO</th>\n",
       "      <th>NOMBRE</th>\n",
       "    </tr>\n",
       "  </thead>\n",
       "  <tbody>\n",
       "    <tr>\n",
       "      <th>0</th>\n",
       "      <td>0510</td>\n",
       "      <td>Tricentenario</td>\n",
       "    </tr>\n",
       "    <tr>\n",
       "      <th>1</th>\n",
       "      <td>0208</td>\n",
       "      <td>Villa Niza</td>\n",
       "    </tr>\n",
       "    <tr>\n",
       "      <th>2</th>\n",
       "      <td>1108</td>\n",
       "      <td>Laureles</td>\n",
       "    </tr>\n",
       "    <tr>\n",
       "      <th>3</th>\n",
       "      <td>1303</td>\n",
       "      <td>Santa Rosa de Lima</td>\n",
       "    </tr>\n",
       "    <tr>\n",
       "      <th>4</th>\n",
       "      <td>1206</td>\n",
       "      <td>Santa Lucía</td>\n",
       "    </tr>\n",
       "  </tbody>\n",
       "</table>\n",
       "</div>"
      ],
      "text/plain": [
       "  CODIGO              NOMBRE\n",
       "0   0510       Tricentenario\n",
       "1   0208          Villa Niza\n",
       "2   1108            Laureles\n",
       "3   1303  Santa Rosa de Lima\n",
       "4   1206         Santa Lucía"
      ]
     },
     "execution_count": 69,
     "metadata": {},
     "output_type": "execute_result"
    }
   ],
   "source": [
    "df.head()"
   ]
  },
  {
   "cell_type": "code",
   "execution_count": 70,
   "metadata": {},
   "outputs": [
    {
     "name": "stdout",
     "output_type": "stream",
     "text": [
      "Tricentenario\n",
      "Villa Niza\n",
      "Laureles\n",
      "Santa Rosa de Lima\n",
      "Santa Lucía\n"
     ]
    }
   ],
   "source": [
    "#Prueba ciclo For\n",
    "for i, row in df.head().iterrows():\n",
    "    print(row['NOMBRE'])"
   ]
  },
  {
   "cell_type": "code",
   "execution_count": 71,
   "metadata": {},
   "outputs": [
    {
     "name": "stdout",
     "output_type": "stream",
     "text": [
      "Buga Patio Bonito\n",
      "Área de Expansión El Noral\n",
      "Facultad Veterinaria y Zootecnia U.de.A.\n",
      "Potrera Miserenga\n",
      "Área de Expansión San Cristóbal\n",
      "Área de Expansión Altavista\n",
      "Área de Expansión Belén Rincón\n",
      "Cabecera Urbana Corregimiento San Cristóbal\n",
      "Área de Expansión Pajarito\n",
      "Área de Expansión San Antonio de Prado\n",
      "Facultad de Minas U. Nacional\n"
     ]
    }
   ],
   "source": [
    "# Traer valores de latitud y longitud para cada barrio de Medellín\n",
    "for i, row in df.iterrows():\n",
    "    try:\n",
    "        \n",
    "        adress = row['NOMBRE']\n",
    "        geolocator = Nominatim(user_agent='ny_explorer')\n",
    "        location = geolocator.geocode(adress)\n",
    "        latitude = location.latitude\n",
    "        longitude = location.longitude\n",
    "        df.loc[i, 0] = latitude\n",
    "        df.loc[i, 1] = longitude\n",
    "        #print('las coordenadas de {} son {}, {}'.format(adress, latitude, longitude) )\n",
    "    except:\n",
    "        print(adress)\n",
    "\n",
    "df.rename(columns={0:'Latitude',1:'Longitude'}, inplace=True)"
   ]
  },
  {
   "cell_type": "code",
   "execution_count": 72,
   "metadata": {},
   "outputs": [
    {
     "data": {
      "text/html": [
       "<div>\n",
       "<style scoped>\n",
       "    .dataframe tbody tr th:only-of-type {\n",
       "        vertical-align: middle;\n",
       "    }\n",
       "\n",
       "    .dataframe tbody tr th {\n",
       "        vertical-align: top;\n",
       "    }\n",
       "\n",
       "    .dataframe thead th {\n",
       "        text-align: right;\n",
       "    }\n",
       "</style>\n",
       "<table border=\"1\" class=\"dataframe\">\n",
       "  <thead>\n",
       "    <tr style=\"text-align: right;\">\n",
       "      <th></th>\n",
       "      <th>CODIGO</th>\n",
       "      <th>NOMBRE</th>\n",
       "      <th>Latitude</th>\n",
       "      <th>Longitude</th>\n",
       "    </tr>\n",
       "  </thead>\n",
       "  <tbody>\n",
       "    <tr>\n",
       "      <th>0</th>\n",
       "      <td>0510</td>\n",
       "      <td>Tricentenario</td>\n",
       "      <td>6.291070</td>\n",
       "      <td>-75.566325</td>\n",
       "    </tr>\n",
       "    <tr>\n",
       "      <th>1</th>\n",
       "      <td>0208</td>\n",
       "      <td>Villa Niza</td>\n",
       "      <td>6.295645</td>\n",
       "      <td>-75.563450</td>\n",
       "    </tr>\n",
       "    <tr>\n",
       "      <th>2</th>\n",
       "      <td>1108</td>\n",
       "      <td>Laureles</td>\n",
       "      <td>-31.498759</td>\n",
       "      <td>-57.525990</td>\n",
       "    </tr>\n",
       "    <tr>\n",
       "      <th>3</th>\n",
       "      <td>1303</td>\n",
       "      <td>Santa Rosa de Lima</td>\n",
       "      <td>14.436619</td>\n",
       "      <td>-90.352043</td>\n",
       "    </tr>\n",
       "    <tr>\n",
       "      <th>4</th>\n",
       "      <td>1206</td>\n",
       "      <td>Santa Lucía</td>\n",
       "      <td>10.306021</td>\n",
       "      <td>-66.658849</td>\n",
       "    </tr>\n",
       "  </tbody>\n",
       "</table>\n",
       "</div>"
      ],
      "text/plain": [
       "  CODIGO              NOMBRE   Latitude  Longitude\n",
       "0   0510       Tricentenario   6.291070 -75.566325\n",
       "1   0208          Villa Niza   6.295645 -75.563450\n",
       "2   1108            Laureles -31.498759 -57.525990\n",
       "3   1303  Santa Rosa de Lima  14.436619 -90.352043\n",
       "4   1206         Santa Lucía  10.306021 -66.658849"
      ]
     },
     "execution_count": 72,
     "metadata": {},
     "output_type": "execute_result"
    }
   ],
   "source": [
    "df.head()"
   ]
  },
  {
   "cell_type": "code",
   "execution_count": null,
   "metadata": {},
   "outputs": [],
   "source": []
  },
  {
   "cell_type": "code",
   "execution_count": null,
   "metadata": {},
   "outputs": [],
   "source": []
  }
 ],
 "metadata": {
  "kernelspec": {
   "display_name": "Python 3",
   "language": "python",
   "name": "python3"
  },
  "language_info": {
   "codemirror_mode": {
    "name": "ipython",
    "version": 3
   },
   "file_extension": ".py",
   "mimetype": "text/x-python",
   "name": "python",
   "nbconvert_exporter": "python",
   "pygments_lexer": "ipython3",
   "version": "3.8.5"
  }
 },
 "nbformat": 4,
 "nbformat_minor": 4
}
