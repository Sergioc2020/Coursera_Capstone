{
 "cells": [
  {
   "cell_type": "markdown",
   "metadata": {},
   "source": [
    "# <div style=\"text-align:center\"> Proyecto Capstone - La Batalla de los Vecindarios </div>"
   ]
  },
  {
   "cell_type": "markdown",
   "metadata": {},
   "source": [
    "## Tabla de Contenido\n",
    "\n",
    "<div class=\"alert alert-block alert-info\" style=\"margin-top: 20px\">\n",
    "\n",
    "1.  [Introducción](#1)<br>\n",
    "2.  [Problema Comercial](#2)<br>\n",
    "3.  [Datos](#3)<br>\n",
    "    </div>\n",
    "    <hr>"
   ]
  },
  {
   "cell_type": "markdown",
   "metadata": {},
   "source": [
    "# Introducción<a id=\"1\"></a>"
   ]
  },
  {
   "cell_type": "markdown",
   "metadata": {},
   "source": [
    "En este proyecto vamos a abordar cada uno de los barrios de la ciudad de Medellín - Colombia, con el fin de determinar en cual barrio es mejor establecer un negocio de Barber Shop.\n",
    "\n",
    "Este problema surge de la motivación de un familiar X por entablar un negocio de Barber Shop en la ciudad de Medellín, sin embargo no sabe donde es mejor, debido a la gran demanda que estan presentando estos sitios actualmente.\n",
    "\n",
    "Con base en lo anterior, utilizaremos Ciencia de Datos para generar Clusters y así saber en cual barrio de Medellín es mas factible entablar una barberia y donde no."
   ]
  },
  {
   "cell_type": "markdown",
   "metadata": {},
   "source": [
    "# Problema Comercial<a id=\"2\"></a>"
   ]
  },
  {
   "cell_type": "markdown",
   "metadata": {},
   "source": [
    "Este problema surge de la motivación de un familiar X por entablar un negocio de Barber Shop en la ciudad de Medellín, sin embargo no sabe donde es mejor, debido a la gran demanda que estan presentando estos sitios actualmente.\n",
    "\n",
    "Con base en lo anterior, utilizaremos Ciencia de Datos para generar Clusters y así saber en cual barrio de Medellín es mas factible entablar una barberia y donde no."
   ]
  },
  {
   "cell_type": "markdown",
   "metadata": {},
   "source": [
    "# Datos<a id=\"3\"></a>"
   ]
  },
  {
   "cell_type": "markdown",
   "metadata": {},
   "source": [
    "Para este proyecto nos basamos en la fuente de datos **Bario Vereda** la cual la encontramos en la página web **GeoMedellín**, sitio web administrado por la Alcaldía de Medellín. En esta fuente de datos, encontraremos cada uno de los barrios de la ciudad de Medellín.\n",
    "\n",
    "Como segundo recurso utilizamos la librería **geopy** para encontrar los valores de latitud y longitud para cada uno de los barrios.\n",
    "\n",
    "Una vez tengamos el DataFrame de los barrios de Medellín con sus respectivas coordenadas, procederemos a usar la API de Foursquare para analizar cada uno de los barrios."
   ]
  },
  {
   "cell_type": "code",
   "execution_count": 1,
   "metadata": {},
   "outputs": [
    {
     "name": "stderr",
     "output_type": "stream",
     "text": [
      "usage: conda-script.py [-h] [-V] command ...\n",
      "conda-script.py: error: unrecognized arguments: # retirar el comentario de esta línea si no ha completado el laboratorio de la API de FourSquare\n"
     ]
    },
    {
     "name": "stdout",
     "output_type": "stream",
     "text": [
      "Libraries imported.\n"
     ]
    }
   ],
   "source": [
    "import numpy as np # librería para manejar datos vectorizados\n",
    "\n",
    "import pandas as pd # librería para análisis de datos\n",
    "pd.set_option('display.max_columns', None)\n",
    "pd.set_option('display.max_rows', None)\n",
    "\n",
    "import json # librería para manejar archivos JSON \n",
    "\n",
    "!conda install -c conda-forge geopy --yes # retirar el comentario de esta línea si no ha completado el laboratorio de la API de FourSquare \n",
    "from geopy.geocoders import Nominatim # convertir una dirección en valores de latitud y longitud\n",
    "\n",
    "import requests # librería para manejar solicitudes\n",
    "from pandas.io.json import json_normalize # librería para convertir un archivo json en un dataframe pandas\n",
    "\n",
    "# Matplotlib y módulos asociados para graficar\n",
    "import matplotlib.cm as cm\n",
    "import matplotlib.colors as colors\n",
    "\n",
    "# importar k-means desde la fase de agrupación\n",
    "from sklearn.cluster import KMeans\n",
    "\n",
    "#!conda install -c conda-forge folium=0.5.0 --yes # retirar el comentario de esta línea si no ha completado el laboratorio de la API de FourSquare\n",
    "import folium # librería para graficar mapas \n",
    "\n",
    "print('Libraries imported.')"
   ]
  },
  {
   "cell_type": "code",
   "execution_count": 54,
   "metadata": {},
   "outputs": [
    {
     "data": {
      "text/html": [
       "<div>\n",
       "<style scoped>\n",
       "    .dataframe tbody tr th:only-of-type {\n",
       "        vertical-align: middle;\n",
       "    }\n",
       "\n",
       "    .dataframe tbody tr th {\n",
       "        vertical-align: top;\n",
       "    }\n",
       "\n",
       "    .dataframe thead th {\n",
       "        text-align: right;\n",
       "    }\n",
       "</style>\n",
       "<table border=\"1\" class=\"dataframe\">\n",
       "  <thead>\n",
       "    <tr style=\"text-align: right;\">\n",
       "      <th></th>\n",
       "      <th>OBJECTID</th>\n",
       "      <th>CODIGO</th>\n",
       "      <th>NOMBRE</th>\n",
       "      <th>SUBTIPO_BARRIOVEREDA</th>\n",
       "      <th>NOMBRE_COMUNA_CORREGIMIENTO</th>\n",
       "      <th>SHAPEAREA</th>\n",
       "      <th>SHAPELEN</th>\n",
       "    </tr>\n",
       "  </thead>\n",
       "  <tbody>\n",
       "    <tr>\n",
       "      <th>0</th>\n",
       "      <td>1112</td>\n",
       "      <td>0510</td>\n",
       "      <td>Tricentenario</td>\n",
       "      <td>1</td>\n",
       "      <td>Castilla</td>\n",
       "      <td>420637.970349</td>\n",
       "      <td>2897.304229</td>\n",
       "    </tr>\n",
       "    <tr>\n",
       "      <th>1</th>\n",
       "      <td>1113</td>\n",
       "      <td>0208</td>\n",
       "      <td>Villa Niza</td>\n",
       "      <td>1</td>\n",
       "      <td>Santa Cruz</td>\n",
       "      <td>143215.327504</td>\n",
       "      <td>1697.303318</td>\n",
       "    </tr>\n",
       "    <tr>\n",
       "      <th>2</th>\n",
       "      <td>1114</td>\n",
       "      <td>1108</td>\n",
       "      <td>Laureles</td>\n",
       "      <td>1</td>\n",
       "      <td>Laureles Estadio</td>\n",
       "      <td>707014.821267</td>\n",
       "      <td>3847.112683</td>\n",
       "    </tr>\n",
       "    <tr>\n",
       "      <th>3</th>\n",
       "      <td>1115</td>\n",
       "      <td>1303</td>\n",
       "      <td>Santa Rosa de Lima</td>\n",
       "      <td>1</td>\n",
       "      <td>San Javier</td>\n",
       "      <td>139970.996369</td>\n",
       "      <td>2158.954261</td>\n",
       "    </tr>\n",
       "    <tr>\n",
       "      <th>4</th>\n",
       "      <td>1116</td>\n",
       "      <td>1206</td>\n",
       "      <td>Santa Lucía</td>\n",
       "      <td>1</td>\n",
       "      <td>La América</td>\n",
       "      <td>275913.740234</td>\n",
       "      <td>3048.703385</td>\n",
       "    </tr>\n",
       "  </tbody>\n",
       "</table>\n",
       "</div>"
      ],
      "text/plain": [
       "   OBJECTID CODIGO              NOMBRE  SUBTIPO_BARRIOVEREDA  \\\n",
       "0      1112   0510       Tricentenario                     1   \n",
       "1      1113   0208          Villa Niza                     1   \n",
       "2      1114   1108            Laureles                     1   \n",
       "3      1115   1303  Santa Rosa de Lima                     1   \n",
       "4      1116   1206         Santa Lucía                     1   \n",
       "\n",
       "  NOMBRE_COMUNA_CORREGIMIENTO      SHAPEAREA     SHAPELEN  \n",
       "0                    Castilla  420637.970349  2897.304229  \n",
       "1                  Santa Cruz  143215.327504  1697.303318  \n",
       "2            Laureles Estadio  707014.821267  3847.112683  \n",
       "3                  San Javier  139970.996369  2158.954261  \n",
       "4                  La América  275913.740234  3048.703385  "
      ]
     },
     "execution_count": 54,
     "metadata": {},
     "output_type": "execute_result"
    }
   ],
   "source": [
    "#Cargar set de datos\n",
    "df = pd.read_csv(r'C:\\Users\\sergio.carmona\\Documents\\Certificados Curso DataScience\\Videos Curso DataScience\\Curso 9. Capstone\\Capstone_Final\\Barrio_Vereda.csv')\n",
    "df.head()"
   ]
  },
  {
   "cell_type": "code",
   "execution_count": 55,
   "metadata": {},
   "outputs": [],
   "source": [
    "#Borrar columnas innecesarias\n",
    "df = df.drop('OBJECTID',1).drop('SUBTIPO_BARRIOVEREDA',1).drop('NOMBRE_COMUNA_CORREGIMIENTO',1).drop('SHAPEAREA',1).drop('SHAPELEN',1)"
   ]
  },
  {
   "cell_type": "code",
   "execution_count": 56,
   "metadata": {},
   "outputs": [
    {
     "data": {
      "text/html": [
       "<div>\n",
       "<style scoped>\n",
       "    .dataframe tbody tr th:only-of-type {\n",
       "        vertical-align: middle;\n",
       "    }\n",
       "\n",
       "    .dataframe tbody tr th {\n",
       "        vertical-align: top;\n",
       "    }\n",
       "\n",
       "    .dataframe thead th {\n",
       "        text-align: right;\n",
       "    }\n",
       "</style>\n",
       "<table border=\"1\" class=\"dataframe\">\n",
       "  <thead>\n",
       "    <tr style=\"text-align: right;\">\n",
       "      <th></th>\n",
       "      <th>CODIGO</th>\n",
       "      <th>NOMBRE</th>\n",
       "    </tr>\n",
       "  </thead>\n",
       "  <tbody>\n",
       "    <tr>\n",
       "      <th>0</th>\n",
       "      <td>0510</td>\n",
       "      <td>Tricentenario</td>\n",
       "    </tr>\n",
       "    <tr>\n",
       "      <th>1</th>\n",
       "      <td>0208</td>\n",
       "      <td>Villa Niza</td>\n",
       "    </tr>\n",
       "    <tr>\n",
       "      <th>2</th>\n",
       "      <td>1108</td>\n",
       "      <td>Laureles</td>\n",
       "    </tr>\n",
       "    <tr>\n",
       "      <th>3</th>\n",
       "      <td>1303</td>\n",
       "      <td>Santa Rosa de Lima</td>\n",
       "    </tr>\n",
       "    <tr>\n",
       "      <th>4</th>\n",
       "      <td>1206</td>\n",
       "      <td>Santa Lucía</td>\n",
       "    </tr>\n",
       "  </tbody>\n",
       "</table>\n",
       "</div>"
      ],
      "text/plain": [
       "  CODIGO              NOMBRE\n",
       "0   0510       Tricentenario\n",
       "1   0208          Villa Niza\n",
       "2   1108            Laureles\n",
       "3   1303  Santa Rosa de Lima\n",
       "4   1206         Santa Lucía"
      ]
     },
     "execution_count": 56,
     "metadata": {},
     "output_type": "execute_result"
    }
   ],
   "source": [
    "df.head()"
   ]
  },
  {
   "cell_type": "code",
   "execution_count": 57,
   "metadata": {},
   "outputs": [
    {
     "name": "stdout",
     "output_type": "stream",
     "text": [
      "Tricentenario\n",
      "Villa Niza\n",
      "Laureles\n",
      "Santa Rosa de Lima\n",
      "Santa Lucía\n"
     ]
    }
   ],
   "source": [
    "#Prueba ciclo For\n",
    "for i, row in df.head().iterrows():\n",
    "    print(row['NOMBRE'])"
   ]
  },
  {
   "cell_type": "code",
   "execution_count": 58,
   "metadata": {},
   "outputs": [
    {
     "name": "stdout",
     "output_type": "stream",
     "text": [
      "las coordenadas de Tricentenario son 6.29107, -75.5663252\n",
      "las coordenadas de Villa Niza son 6.295645, -75.5634499\n",
      "las coordenadas de Laureles son -31.4987591, -57.5259895\n",
      "las coordenadas de Santa Rosa de Lima son 14.4366188, -90.35204260145977\n",
      "las coordenadas de Santa Lucía son 10.3060211, -66.6588487\n"
     ]
    }
   ],
   "source": [
    "# Traer valores de latitud y longitud para cada barrio de Medellín\n",
    "for i, row in df.head().iterrows():\n",
    "    try:\n",
    "        \n",
    "        adress = row['NOMBRE']\n",
    "        geolocator = Nominatim(user_agent='ny_explorer')\n",
    "        location = geolocator.geocode(adress)\n",
    "        latitude = location.latitude\n",
    "        longitude = location.longitude\n",
    "        df.loc[i, 0] = latitude\n",
    "        df.loc[i, 1] = longitude\n",
    "        print('las coordenadas de {} son {}, {}'.format(adress, latitude, longitude) )\n",
    "    except:\n",
    "        print(adress)\n",
    "\n",
    "df.rename(columns={0:'Latitude',1:'Longitude'}, inplace=True)"
   ]
  },
  {
   "cell_type": "code",
   "execution_count": 59,
   "metadata": {},
   "outputs": [
    {
     "data": {
      "text/html": [
       "<div>\n",
       "<style scoped>\n",
       "    .dataframe tbody tr th:only-of-type {\n",
       "        vertical-align: middle;\n",
       "    }\n",
       "\n",
       "    .dataframe tbody tr th {\n",
       "        vertical-align: top;\n",
       "    }\n",
       "\n",
       "    .dataframe thead th {\n",
       "        text-align: right;\n",
       "    }\n",
       "</style>\n",
       "<table border=\"1\" class=\"dataframe\">\n",
       "  <thead>\n",
       "    <tr style=\"text-align: right;\">\n",
       "      <th></th>\n",
       "      <th>CODIGO</th>\n",
       "      <th>NOMBRE</th>\n",
       "      <th>Latitude</th>\n",
       "      <th>Longitude</th>\n",
       "    </tr>\n",
       "  </thead>\n",
       "  <tbody>\n",
       "    <tr>\n",
       "      <th>0</th>\n",
       "      <td>0510</td>\n",
       "      <td>Tricentenario</td>\n",
       "      <td>6.291070</td>\n",
       "      <td>-75.566325</td>\n",
       "    </tr>\n",
       "    <tr>\n",
       "      <th>1</th>\n",
       "      <td>0208</td>\n",
       "      <td>Villa Niza</td>\n",
       "      <td>6.295645</td>\n",
       "      <td>-75.563450</td>\n",
       "    </tr>\n",
       "    <tr>\n",
       "      <th>2</th>\n",
       "      <td>1108</td>\n",
       "      <td>Laureles</td>\n",
       "      <td>-31.498759</td>\n",
       "      <td>-57.525990</td>\n",
       "    </tr>\n",
       "    <tr>\n",
       "      <th>3</th>\n",
       "      <td>1303</td>\n",
       "      <td>Santa Rosa de Lima</td>\n",
       "      <td>14.436619</td>\n",
       "      <td>-90.352043</td>\n",
       "    </tr>\n",
       "    <tr>\n",
       "      <th>4</th>\n",
       "      <td>1206</td>\n",
       "      <td>Santa Lucía</td>\n",
       "      <td>10.306021</td>\n",
       "      <td>-66.658849</td>\n",
       "    </tr>\n",
       "  </tbody>\n",
       "</table>\n",
       "</div>"
      ],
      "text/plain": [
       "  CODIGO              NOMBRE   Latitude  Longitude\n",
       "0   0510       Tricentenario   6.291070 -75.566325\n",
       "1   0208          Villa Niza   6.295645 -75.563450\n",
       "2   1108            Laureles -31.498759 -57.525990\n",
       "3   1303  Santa Rosa de Lima  14.436619 -90.352043\n",
       "4   1206         Santa Lucía  10.306021 -66.658849"
      ]
     },
     "execution_count": 59,
     "metadata": {},
     "output_type": "execute_result"
    }
   ],
   "source": [
    "df.head()"
   ]
  },
  {
   "cell_type": "code",
   "execution_count": null,
   "metadata": {},
   "outputs": [],
   "source": []
  },
  {
   "cell_type": "code",
   "execution_count": null,
   "metadata": {},
   "outputs": [],
   "source": []
  },
  {
   "cell_type": "code",
   "execution_count": null,
   "metadata": {},
   "outputs": [],
   "source": []
  }
 ],
 "metadata": {
  "kernelspec": {
   "display_name": "Python 3",
   "language": "python",
   "name": "python3"
  },
  "language_info": {
   "codemirror_mode": {
    "name": "ipython",
    "version": 3
   },
   "file_extension": ".py",
   "mimetype": "text/x-python",
   "name": "python",
   "nbconvert_exporter": "python",
   "pygments_lexer": "ipython3",
   "version": "3.8.5"
  }
 },
 "nbformat": 4,
 "nbformat_minor": 4
}
